{
 "cells": [
  {
   "cell_type": "code",
   "execution_count": null,
   "id": "1b59be31",
   "metadata": {},
   "outputs": [],
   "source": [
    "pip install pyreadr"
   ]
  },
  {
   "cell_type": "code",
   "execution_count": null,
   "id": "a28f1bb6",
   "metadata": {},
   "outputs": [],
   "source": [
    "import pyreadr \n",
    "import pandas as pd\n",
    "import warnings\n",
    "from sklearn.tree import DecisionTreeRegressor\n",
    "warnings.filterwarnings"
   ]
  },
  {
   "cell_type": "code",
   "execution_count": null,
   "id": "cacf1937",
   "metadata": {},
   "outputs": [],
   "source": [
    "df = pyreadr.read_r('college_scorecard_2013.rds')\n",
    "df"
   ]
  },
  {
   "cell_type": "code",
   "execution_count": null,
   "id": "826b08e1",
   "metadata": {
    "scrolled": true
   },
   "outputs": [],
   "source": [
    "data = df[None]\n",
    "data"
   ]
  },
  {
   "cell_type": "code",
   "execution_count": null,
   "id": "21415813",
   "metadata": {},
   "outputs": [],
   "source": [
    "data.info()"
   ]
  },
  {
   "cell_type": "code",
   "execution_count": null,
   "id": "dfcb1cdf",
   "metadata": {},
   "outputs": [],
   "source": [
    "data['admission'].mean()"
   ]
  },
  {
   "cell_type": "code",
   "execution_count": null,
   "id": "3286260e",
   "metadata": {},
   "outputs": [],
   "source": [
    "data['admission'] = data['admission'].fillna(0.6707390822784811)"
   ]
  },
  {
   "cell_type": "code",
   "execution_count": null,
   "id": "7f98ff44",
   "metadata": {},
   "outputs": [],
   "source": [
    "data['admission'].mean()"
   ]
  },
  {
   "cell_type": "code",
   "execution_count": null,
   "id": "1f68dabd",
   "metadata": {},
   "outputs": [],
   "source": [
    "#code to find the mean of multiple columns and fill up each rows of the columns\n",
    "float_columns = ['veteran','net_cost','med_debt','med_debt_withdraw','repay_5yr_rate','completion','retention','avg_family_inc','med_family_inc','first_gen','avg_entry_age','default_3yr_rate','med_10yr_salary','fed_loan','pell_grant','sd_10yr_salary','ft_faculty','race_white','race_black','race_pacific','race_asian','race_native','race_other','repay_5yr_rate_withdraw','race_hispanic','male','female']\n",
    "float_cols = data[float_columns]\n",
    "columns_mean = float_cols.mean()\n",
    "for col in float_cols.columns:\n",
    "    data[col] = float_cols[col].fillna(columns_mean[col])\n",
    "data.info()"
   ]
  },
  {
   "cell_type": "code",
   "execution_count": null,
   "id": "05139798",
   "metadata": {},
   "outputs": [],
   "source": [
    "data"
   ]
  },
  {
   "cell_type": "code",
   "execution_count": null,
   "id": "efda2447",
   "metadata": {},
   "outputs": [],
   "source": [
    "data['avg_10yr_salary'].mean()"
   ]
  },
  {
   "cell_type": "code",
   "execution_count": null,
   "id": "24299d43",
   "metadata": {},
   "outputs": [],
   "source": [
    "data['med_debt_withdraw'].median()"
   ]
  },
  {
   "cell_type": "code",
   "execution_count": null,
   "id": "d0bc33e8",
   "metadata": {},
   "outputs": [],
   "source": [
    "data['spend_per_student'].info()"
   ]
  },
  {
   "cell_type": "code",
   "execution_count": null,
   "id": "380b3acd",
   "metadata": {},
   "outputs": [],
   "source": [
    "data['spend_per_student'] = data['spend_per_student'].astype(float)"
   ]
  },
  {
   "cell_type": "code",
   "execution_count": null,
   "id": "c7223994",
   "metadata": {},
   "outputs": [],
   "source": [
    "data['online_only'].info()"
   ]
  },
  {
   "cell_type": "code",
   "execution_count": null,
   "id": "3b64064a",
   "metadata": {},
   "outputs": [],
   "source": [
    "data[['avg_sat','undergrad_pop','grad_pop','tuition','cost','revenue_per_student','avg_faculty_salary','tuition_nonresident','spend_per_student','avg_10yr_salary']] = data[['avg_sat','undergrad_pop','grad_pop','tuition','cost','revenue_per_student','avg_faculty_salary','tuition_nonresident','spend_per_student','avg_10yr_salary']].astype(float)\n",
    "data"
   ]
  },
  {
   "cell_type": "code",
   "execution_count": null,
   "id": "1eadcd7a",
   "metadata": {},
   "outputs": [],
   "source": [
    "data.info()"
   ]
  },
  {
   "cell_type": "code",
   "execution_count": 17,
   "id": "b20009fe",
   "metadata": {},
   "outputs": [
    {
     "name": "stdout",
     "output_type": "stream",
     "text": [
      "<class 'pandas.core.frame.DataFrame'>\n",
      "RangeIndex: 3312 entries, 0 to 3311\n",
      "Data columns (total 51 columns):\n",
      " #   Column                   Non-Null Count  Dtype   \n",
      "---  ------                   --------------  -----   \n",
      " 0   unit_id                  3312 non-null   int32   \n",
      " 1   ope_id                   3312 non-null   object  \n",
      " 2   main_campus              3312 non-null   bool    \n",
      " 3   branches                 3312 non-null   int32   \n",
      " 4   open_admissions          3312 non-null   bool    \n",
      " 5   name                     3312 non-null   object  \n",
      " 6   city                     3312 non-null   object  \n",
      " 7   state                    3312 non-null   category\n",
      " 8   zip                      3312 non-null   object  \n",
      " 9   online_only              3113 non-null   object  \n",
      " 10  primary_degree           3312 non-null   category\n",
      " 11  highest_degree           3312 non-null   category\n",
      " 12  ownership                3312 non-null   category\n",
      " 13  avg_sat                  1389 non-null   float64 \n",
      " 14  undergrad_pop            2822 non-null   float64 \n",
      " 15  grad_pop                 2163 non-null   float64 \n",
      " 16  cost                     2595 non-null   float64 \n",
      " 17  tuition                  2840 non-null   float64 \n",
      " 18  tuition_nonresident      2677 non-null   float64 \n",
      " 19  revenue_per_student      3111 non-null   float64 \n",
      " 20  spend_per_student        3111 non-null   float64 \n",
      " 21  avg_faculty_salary       2995 non-null   float64 \n",
      " 22  ft_faculty               3312 non-null   float64 \n",
      " 23  admission                3312 non-null   float64 \n",
      " 24  retention                3312 non-null   float64 \n",
      " 25  completion               3312 non-null   float64 \n",
      " 26  fed_loan                 3312 non-null   float64 \n",
      " 27  pell_grant               3312 non-null   float64 \n",
      " 28  avg_family_inc           3312 non-null   float64 \n",
      " 29  med_family_inc           3312 non-null   float64 \n",
      " 30  avg_10yr_salary          2832 non-null   float64 \n",
      " 31  sd_10yr_salary           3312 non-null   float64 \n",
      " 32  med_10yr_salary          3312 non-null   float64 \n",
      " 33  med_debt                 3312 non-null   float64 \n",
      " 34  med_debt_withdraw        3312 non-null   float64 \n",
      " 35  default_3yr_rate         3312 non-null   float64 \n",
      " 36  repay_5yr_rate_withdraw  3312 non-null   float64 \n",
      " 37  repay_5yr_rate           3312 non-null   float64 \n",
      " 38  avg_entry_age            3312 non-null   float64 \n",
      " 39  veteran                  3312 non-null   float64 \n",
      " 40  first_gen                3312 non-null   float64 \n",
      " 41  male                     3312 non-null   float64 \n",
      " 42  female                   3312 non-null   float64 \n",
      " 43  race_white               3312 non-null   float64 \n",
      " 44  race_black               3312 non-null   float64 \n",
      " 45  race_hispanic            3312 non-null   float64 \n",
      " 46  race_asian               3312 non-null   float64 \n",
      " 47  race_native              3312 non-null   float64 \n",
      " 48  race_pacific             3312 non-null   float64 \n",
      " 49  net_cost                 3312 non-null   float64 \n",
      " 50  race_other               3312 non-null   float64 \n",
      "dtypes: bool(2), category(4), float64(38), int32(2), object(5)\n",
      "memory usage: 1.1+ MB\n"
     ]
    }
   ],
   "source": [
    "data.info()"
   ]
  },
  {
   "cell_type": "code",
   "execution_count": 18,
   "id": "f5217bbe",
   "metadata": {},
   "outputs": [
    {
     "data": {
      "text/html": [
       "<div>\n",
       "<style scoped>\n",
       "    .dataframe tbody tr th:only-of-type {\n",
       "        vertical-align: middle;\n",
       "    }\n",
       "\n",
       "    .dataframe tbody tr th {\n",
       "        vertical-align: top;\n",
       "    }\n",
       "\n",
       "    .dataframe thead th {\n",
       "        text-align: right;\n",
       "    }\n",
       "</style>\n",
       "<table border=\"1\" class=\"dataframe\">\n",
       "  <thead>\n",
       "    <tr style=\"text-align: right;\">\n",
       "      <th></th>\n",
       "      <th>unit_id</th>\n",
       "      <th>ope_id</th>\n",
       "      <th>main_campus</th>\n",
       "      <th>branches</th>\n",
       "      <th>open_admissions</th>\n",
       "      <th>name</th>\n",
       "      <th>city</th>\n",
       "      <th>state</th>\n",
       "      <th>zip</th>\n",
       "      <th>online_only</th>\n",
       "      <th>...</th>\n",
       "      <th>male</th>\n",
       "      <th>female</th>\n",
       "      <th>race_white</th>\n",
       "      <th>race_black</th>\n",
       "      <th>race_hispanic</th>\n",
       "      <th>race_asian</th>\n",
       "      <th>race_native</th>\n",
       "      <th>race_pacific</th>\n",
       "      <th>net_cost</th>\n",
       "      <th>race_other</th>\n",
       "    </tr>\n",
       "  </thead>\n",
       "  <tbody>\n",
       "    <tr>\n",
       "      <th>0</th>\n",
       "      <td>100654</td>\n",
       "      <td>001002</td>\n",
       "      <td>True</td>\n",
       "      <td>1</td>\n",
       "      <td>False</td>\n",
       "      <td>Alabama A &amp; M University</td>\n",
       "      <td>Normal</td>\n",
       "      <td>AL</td>\n",
       "      <td>35762</td>\n",
       "      <td>False</td>\n",
       "      <td>...</td>\n",
       "      <td>0.486100</td>\n",
       "      <td>0.51390</td>\n",
       "      <td>0.027900</td>\n",
       "      <td>0.950100</td>\n",
       "      <td>0.008900</td>\n",
       "      <td>0.002200</td>\n",
       "      <td>0.001200</td>\n",
       "      <td>0.001000</td>\n",
       "      <td>13415.000000</td>\n",
       "      <td>0.008600</td>\n",
       "    </tr>\n",
       "    <tr>\n",
       "      <th>1</th>\n",
       "      <td>100663</td>\n",
       "      <td>001052</td>\n",
       "      <td>True</td>\n",
       "      <td>1</td>\n",
       "      <td>False</td>\n",
       "      <td>University of Alabama at Birmingham</td>\n",
       "      <td>Birmingham</td>\n",
       "      <td>AL</td>\n",
       "      <td>35294-0110</td>\n",
       "      <td>False</td>\n",
       "      <td>...</td>\n",
       "      <td>0.413500</td>\n",
       "      <td>0.58650</td>\n",
       "      <td>0.598700</td>\n",
       "      <td>0.259000</td>\n",
       "      <td>0.025800</td>\n",
       "      <td>0.051800</td>\n",
       "      <td>0.002600</td>\n",
       "      <td>0.000700</td>\n",
       "      <td>14805.000000</td>\n",
       "      <td>0.061400</td>\n",
       "    </tr>\n",
       "    <tr>\n",
       "      <th>2</th>\n",
       "      <td>100690</td>\n",
       "      <td>025034</td>\n",
       "      <td>True</td>\n",
       "      <td>1</td>\n",
       "      <td>True</td>\n",
       "      <td>Amridge University</td>\n",
       "      <td>Montgomery</td>\n",
       "      <td>AL</td>\n",
       "      <td>36117-3553</td>\n",
       "      <td>False</td>\n",
       "      <td>...</td>\n",
       "      <td>0.391300</td>\n",
       "      <td>0.60870</td>\n",
       "      <td>0.291900</td>\n",
       "      <td>0.422400</td>\n",
       "      <td>0.009300</td>\n",
       "      <td>0.003100</td>\n",
       "      <td>0.003100</td>\n",
       "      <td>0.003100</td>\n",
       "      <td>7455.000000</td>\n",
       "      <td>0.267100</td>\n",
       "    </tr>\n",
       "    <tr>\n",
       "      <th>3</th>\n",
       "      <td>100706</td>\n",
       "      <td>001055</td>\n",
       "      <td>True</td>\n",
       "      <td>1</td>\n",
       "      <td>False</td>\n",
       "      <td>University of Alabama in Huntsville</td>\n",
       "      <td>Huntsville</td>\n",
       "      <td>AL</td>\n",
       "      <td>35899</td>\n",
       "      <td>False</td>\n",
       "      <td>...</td>\n",
       "      <td>0.558000</td>\n",
       "      <td>0.44200</td>\n",
       "      <td>0.701200</td>\n",
       "      <td>0.131000</td>\n",
       "      <td>0.033800</td>\n",
       "      <td>0.036400</td>\n",
       "      <td>0.014500</td>\n",
       "      <td>0.000200</td>\n",
       "      <td>17520.000000</td>\n",
       "      <td>0.082800</td>\n",
       "    </tr>\n",
       "    <tr>\n",
       "      <th>4</th>\n",
       "      <td>100724</td>\n",
       "      <td>001005</td>\n",
       "      <td>True</td>\n",
       "      <td>1</td>\n",
       "      <td>False</td>\n",
       "      <td>Alabama State University</td>\n",
       "      <td>Montgomery</td>\n",
       "      <td>AL</td>\n",
       "      <td>36104-0271</td>\n",
       "      <td>False</td>\n",
       "      <td>...</td>\n",
       "      <td>0.408500</td>\n",
       "      <td>0.59150</td>\n",
       "      <td>0.016100</td>\n",
       "      <td>0.928500</td>\n",
       "      <td>0.011400</td>\n",
       "      <td>0.001500</td>\n",
       "      <td>0.000900</td>\n",
       "      <td>0.000700</td>\n",
       "      <td>11936.000000</td>\n",
       "      <td>0.040900</td>\n",
       "    </tr>\n",
       "    <tr>\n",
       "      <th>...</th>\n",
       "      <td>...</td>\n",
       "      <td>...</td>\n",
       "      <td>...</td>\n",
       "      <td>...</td>\n",
       "      <td>...</td>\n",
       "      <td>...</td>\n",
       "      <td>...</td>\n",
       "      <td>...</td>\n",
       "      <td>...</td>\n",
       "      <td>...</td>\n",
       "      <td>...</td>\n",
       "      <td>...</td>\n",
       "      <td>...</td>\n",
       "      <td>...</td>\n",
       "      <td>...</td>\n",
       "      <td>...</td>\n",
       "      <td>...</td>\n",
       "      <td>...</td>\n",
       "      <td>...</td>\n",
       "      <td>...</td>\n",
       "      <td>...</td>\n",
       "    </tr>\n",
       "    <tr>\n",
       "      <th>3307</th>\n",
       "      <td>47702001</td>\n",
       "      <td>001459</td>\n",
       "      <td>False</td>\n",
       "      <td>99</td>\n",
       "      <td>False</td>\n",
       "      <td>Strayer University-Schaumburg Campus</td>\n",
       "      <td>Schaumburg</td>\n",
       "      <td>IL</td>\n",
       "      <td>601735081</td>\n",
       "      <td>NaN</td>\n",
       "      <td>...</td>\n",
       "      <td>0.439499</td>\n",
       "      <td>0.55873</td>\n",
       "      <td>0.540994</td>\n",
       "      <td>0.163488</td>\n",
       "      <td>0.122793</td>\n",
       "      <td>0.036708</td>\n",
       "      <td>0.012106</td>\n",
       "      <td>0.004339</td>\n",
       "      <td>18819.491041</td>\n",
       "      <td>0.117801</td>\n",
       "    </tr>\n",
       "    <tr>\n",
       "      <th>3308</th>\n",
       "      <td>47702002</td>\n",
       "      <td>001459</td>\n",
       "      <td>False</td>\n",
       "      <td>99</td>\n",
       "      <td>False</td>\n",
       "      <td>Strayer University-Downers Grove Campus</td>\n",
       "      <td>Downers Grove</td>\n",
       "      <td>IL</td>\n",
       "      <td>605151169</td>\n",
       "      <td>NaN</td>\n",
       "      <td>...</td>\n",
       "      <td>0.439499</td>\n",
       "      <td>0.55873</td>\n",
       "      <td>0.540994</td>\n",
       "      <td>0.163488</td>\n",
       "      <td>0.122793</td>\n",
       "      <td>0.036708</td>\n",
       "      <td>0.012106</td>\n",
       "      <td>0.004339</td>\n",
       "      <td>18819.491041</td>\n",
       "      <td>0.117801</td>\n",
       "    </tr>\n",
       "    <tr>\n",
       "      <th>3309</th>\n",
       "      <td>47702003</td>\n",
       "      <td>001459</td>\n",
       "      <td>False</td>\n",
       "      <td>99</td>\n",
       "      <td>False</td>\n",
       "      <td>Strayer University-Aurora Campus</td>\n",
       "      <td>Aurora</td>\n",
       "      <td>IL</td>\n",
       "      <td>605066220</td>\n",
       "      <td>NaN</td>\n",
       "      <td>...</td>\n",
       "      <td>0.439499</td>\n",
       "      <td>0.55873</td>\n",
       "      <td>0.540994</td>\n",
       "      <td>0.163488</td>\n",
       "      <td>0.122793</td>\n",
       "      <td>0.036708</td>\n",
       "      <td>0.012106</td>\n",
       "      <td>0.004339</td>\n",
       "      <td>18819.491041</td>\n",
       "      <td>0.117801</td>\n",
       "    </tr>\n",
       "    <tr>\n",
       "      <th>3310</th>\n",
       "      <td>48065701</td>\n",
       "      <td>008694</td>\n",
       "      <td>False</td>\n",
       "      <td>23</td>\n",
       "      <td>False</td>\n",
       "      <td>Rasmussen College - Overland Park</td>\n",
       "      <td>Overland Park</td>\n",
       "      <td>KS</td>\n",
       "      <td>662102786</td>\n",
       "      <td>NaN</td>\n",
       "      <td>...</td>\n",
       "      <td>0.439499</td>\n",
       "      <td>0.55873</td>\n",
       "      <td>0.540994</td>\n",
       "      <td>0.163488</td>\n",
       "      <td>0.122793</td>\n",
       "      <td>0.036708</td>\n",
       "      <td>0.012106</td>\n",
       "      <td>0.004339</td>\n",
       "      <td>18819.491041</td>\n",
       "      <td>0.117801</td>\n",
       "    </tr>\n",
       "    <tr>\n",
       "      <th>3311</th>\n",
       "      <td>48158001</td>\n",
       "      <td>001459</td>\n",
       "      <td>False</td>\n",
       "      <td>99</td>\n",
       "      <td>False</td>\n",
       "      <td>Strayer University-St Louis-Brentwood</td>\n",
       "      <td>Brentwood</td>\n",
       "      <td>MO</td>\n",
       "      <td>63144</td>\n",
       "      <td>NaN</td>\n",
       "      <td>...</td>\n",
       "      <td>0.439499</td>\n",
       "      <td>0.55873</td>\n",
       "      <td>0.540994</td>\n",
       "      <td>0.163488</td>\n",
       "      <td>0.122793</td>\n",
       "      <td>0.036708</td>\n",
       "      <td>0.012106</td>\n",
       "      <td>0.004339</td>\n",
       "      <td>18819.491041</td>\n",
       "      <td>0.117801</td>\n",
       "    </tr>\n",
       "  </tbody>\n",
       "</table>\n",
       "<p>3312 rows × 51 columns</p>\n",
       "</div>"
      ],
      "text/plain": [
       "       unit_id  ope_id  main_campus  branches  open_admissions  \\\n",
       "0       100654  001002         True         1            False   \n",
       "1       100663  001052         True         1            False   \n",
       "2       100690  025034         True         1             True   \n",
       "3       100706  001055         True         1            False   \n",
       "4       100724  001005         True         1            False   \n",
       "...        ...     ...          ...       ...              ...   \n",
       "3307  47702001  001459        False        99            False   \n",
       "3308  47702002  001459        False        99            False   \n",
       "3309  47702003  001459        False        99            False   \n",
       "3310  48065701  008694        False        23            False   \n",
       "3311  48158001  001459        False        99            False   \n",
       "\n",
       "                                         name           city state  \\\n",
       "0                    Alabama A & M University         Normal    AL   \n",
       "1         University of Alabama at Birmingham     Birmingham    AL   \n",
       "2                          Amridge University     Montgomery    AL   \n",
       "3         University of Alabama in Huntsville     Huntsville    AL   \n",
       "4                    Alabama State University     Montgomery    AL   \n",
       "...                                       ...            ...   ...   \n",
       "3307     Strayer University-Schaumburg Campus     Schaumburg    IL   \n",
       "3308  Strayer University-Downers Grove Campus  Downers Grove    IL   \n",
       "3309         Strayer University-Aurora Campus         Aurora    IL   \n",
       "3310        Rasmussen College - Overland Park  Overland Park    KS   \n",
       "3311    Strayer University-St Louis-Brentwood      Brentwood    MO   \n",
       "\n",
       "             zip online_only  ...      male   female race_white  race_black  \\\n",
       "0          35762       False  ...  0.486100  0.51390   0.027900    0.950100   \n",
       "1     35294-0110       False  ...  0.413500  0.58650   0.598700    0.259000   \n",
       "2     36117-3553       False  ...  0.391300  0.60870   0.291900    0.422400   \n",
       "3          35899       False  ...  0.558000  0.44200   0.701200    0.131000   \n",
       "4     36104-0271       False  ...  0.408500  0.59150   0.016100    0.928500   \n",
       "...          ...         ...  ...       ...      ...        ...         ...   \n",
       "3307   601735081         NaN  ...  0.439499  0.55873   0.540994    0.163488   \n",
       "3308   605151169         NaN  ...  0.439499  0.55873   0.540994    0.163488   \n",
       "3309   605066220         NaN  ...  0.439499  0.55873   0.540994    0.163488   \n",
       "3310   662102786         NaN  ...  0.439499  0.55873   0.540994    0.163488   \n",
       "3311       63144         NaN  ...  0.439499  0.55873   0.540994    0.163488   \n",
       "\n",
       "      race_hispanic  race_asian  race_native  race_pacific      net_cost  \\\n",
       "0          0.008900    0.002200     0.001200      0.001000  13415.000000   \n",
       "1          0.025800    0.051800     0.002600      0.000700  14805.000000   \n",
       "2          0.009300    0.003100     0.003100      0.003100   7455.000000   \n",
       "3          0.033800    0.036400     0.014500      0.000200  17520.000000   \n",
       "4          0.011400    0.001500     0.000900      0.000700  11936.000000   \n",
       "...             ...         ...          ...           ...           ...   \n",
       "3307       0.122793    0.036708     0.012106      0.004339  18819.491041   \n",
       "3308       0.122793    0.036708     0.012106      0.004339  18819.491041   \n",
       "3309       0.122793    0.036708     0.012106      0.004339  18819.491041   \n",
       "3310       0.122793    0.036708     0.012106      0.004339  18819.491041   \n",
       "3311       0.122793    0.036708     0.012106      0.004339  18819.491041   \n",
       "\n",
       "      race_other  \n",
       "0       0.008600  \n",
       "1       0.061400  \n",
       "2       0.267100  \n",
       "3       0.082800  \n",
       "4       0.040900  \n",
       "...          ...  \n",
       "3307    0.117801  \n",
       "3308    0.117801  \n",
       "3309    0.117801  \n",
       "3310    0.117801  \n",
       "3311    0.117801  \n",
       "\n",
       "[3312 rows x 51 columns]"
      ]
     },
     "execution_count": 18,
     "metadata": {},
     "output_type": "execute_result"
    }
   ],
   "source": [
    "data[['avg_faculty_salary','spend_per_student','revenue_per_student','tuition','tuition_nonresident','cost','undergrad_pop','grad_pop','avg_sat']] = data[['avg_faculty_salary','spend_per_student','revenue_per_student','tuition','tuition_nonresident','cost','undergrad_pop','grad_pop','avg_sat']].astype(float)\n",
    "data"
   ]
  },
  {
   "cell_type": "code",
   "execution_count": 19,
   "id": "4c035a29",
   "metadata": {},
   "outputs": [
    {
     "name": "stdout",
     "output_type": "stream",
     "text": [
      "<class 'pandas.core.frame.DataFrame'>\n",
      "RangeIndex: 3312 entries, 0 to 3311\n",
      "Data columns (total 51 columns):\n",
      " #   Column                   Non-Null Count  Dtype   \n",
      "---  ------                   --------------  -----   \n",
      " 0   unit_id                  3312 non-null   int32   \n",
      " 1   ope_id                   3312 non-null   object  \n",
      " 2   main_campus              3312 non-null   bool    \n",
      " 3   branches                 3312 non-null   int32   \n",
      " 4   open_admissions          3312 non-null   bool    \n",
      " 5   name                     3312 non-null   object  \n",
      " 6   city                     3312 non-null   object  \n",
      " 7   state                    3312 non-null   category\n",
      " 8   zip                      3312 non-null   object  \n",
      " 9   online_only              3113 non-null   object  \n",
      " 10  primary_degree           3312 non-null   category\n",
      " 11  highest_degree           3312 non-null   category\n",
      " 12  ownership                3312 non-null   category\n",
      " 13  avg_sat                  3312 non-null   float64 \n",
      " 14  undergrad_pop            3312 non-null   float64 \n",
      " 15  grad_pop                 3312 non-null   float64 \n",
      " 16  cost                     3312 non-null   float64 \n",
      " 17  tuition                  3312 non-null   float64 \n",
      " 18  tuition_nonresident      3312 non-null   float64 \n",
      " 19  revenue_per_student      3312 non-null   float64 \n",
      " 20  spend_per_student        3312 non-null   float64 \n",
      " 21  avg_faculty_salary       3312 non-null   float64 \n",
      " 22  ft_faculty               3312 non-null   float64 \n",
      " 23  admission                3312 non-null   float64 \n",
      " 24  retention                3312 non-null   float64 \n",
      " 25  completion               3312 non-null   float64 \n",
      " 26  fed_loan                 3312 non-null   float64 \n",
      " 27  pell_grant               3312 non-null   float64 \n",
      " 28  avg_family_inc           3312 non-null   float64 \n",
      " 29  med_family_inc           3312 non-null   float64 \n",
      " 30  avg_10yr_salary          3312 non-null   float64 \n",
      " 31  sd_10yr_salary           3312 non-null   float64 \n",
      " 32  med_10yr_salary          3312 non-null   float64 \n",
      " 33  med_debt                 3312 non-null   float64 \n",
      " 34  med_debt_withdraw        3312 non-null   float64 \n",
      " 35  default_3yr_rate         3312 non-null   float64 \n",
      " 36  repay_5yr_rate_withdraw  3312 non-null   float64 \n",
      " 37  repay_5yr_rate           3312 non-null   float64 \n",
      " 38  avg_entry_age            3312 non-null   float64 \n",
      " 39  veteran                  3312 non-null   float64 \n",
      " 40  first_gen                3312 non-null   float64 \n",
      " 41  male                     3312 non-null   float64 \n",
      " 42  female                   3312 non-null   float64 \n",
      " 43  race_white               3312 non-null   float64 \n",
      " 44  race_black               3312 non-null   float64 \n",
      " 45  race_hispanic            3312 non-null   float64 \n",
      " 46  race_asian               3312 non-null   float64 \n",
      " 47  race_native              3312 non-null   float64 \n",
      " 48  race_pacific             3312 non-null   float64 \n",
      " 49  net_cost                 3312 non-null   float64 \n",
      " 50  race_other               3312 non-null   float64 \n",
      "dtypes: bool(2), category(4), float64(38), int32(2), object(5)\n",
      "memory usage: 1.1+ MB\n"
     ]
    }
   ],
   "source": [
    "#code to find the mean of multiple columns and fill up each rows of the columns\n",
    "float_columntwo = ['avg_faculty_salary','avg_10yr_salary','spend_per_student','revenue_per_student','tuition','tuition_nonresident','cost','undergrad_pop','grad_pop','avg_sat']\n",
    "float_colss = data[float_columntwo]\n",
    "columntwo_mean = float_colss.mean()\n",
    "for col in float_colss.columns:\n",
    "    data[col] = float_colss[col].fillna(columntwo_mean[col])\n",
    "data.info()"
   ]
  },
  {
   "cell_type": "code",
   "execution_count": 20,
   "id": "2527935e",
   "metadata": {
    "scrolled": false
   },
   "outputs": [],
   "source": [
    "data = data.dropna(axis=0)\n",
    "#dropping anyother rows"
   ]
  },
  {
   "cell_type": "code",
   "execution_count": 21,
   "id": "8b1d5657",
   "metadata": {},
   "outputs": [
    {
     "data": {
      "text/plain": [
       "array([ 7182.,  7206.,  6870., ...,  4219., 15024.,  7866.])"
      ]
     },
     "execution_count": 21,
     "metadata": {},
     "output_type": "execute_result"
    }
   ],
   "source": [
    "data.tuition.unique()"
   ]
  },
  {
   "cell_type": "code",
   "execution_count": 22,
   "id": "09196e1d",
   "metadata": {},
   "outputs": [],
   "source": [
    "data.to_excel('cleaned_scorecard.xlsx',index=False)"
   ]
  },
  {
   "cell_type": "markdown",
   "id": "2cf08704",
   "metadata": {},
   "source": [
    "now we wat to work on predicton modelling\n",
    "#indicating the target column"
   ]
  },
  {
   "cell_type": "code",
   "execution_count": 23,
   "id": "0cb83c84",
   "metadata": {},
   "outputs": [
    {
     "data": {
      "text/plain": [
       "Index(['unit_id', 'ope_id', 'main_campus', 'branches', 'open_admissions',\n",
       "       'name', 'city', 'state', 'zip', 'online_only', 'primary_degree',\n",
       "       'highest_degree', 'ownership', 'avg_sat', 'undergrad_pop', 'grad_pop',\n",
       "       'cost', 'tuition', 'tuition_nonresident', 'revenue_per_student',\n",
       "       'spend_per_student', 'avg_faculty_salary', 'ft_faculty', 'admission',\n",
       "       'retention', 'completion', 'fed_loan', 'pell_grant', 'avg_family_inc',\n",
       "       'med_family_inc', 'avg_10yr_salary', 'sd_10yr_salary',\n",
       "       'med_10yr_salary', 'med_debt', 'med_debt_withdraw', 'default_3yr_rate',\n",
       "       'repay_5yr_rate_withdraw', 'repay_5yr_rate', 'avg_entry_age', 'veteran',\n",
       "       'first_gen', 'male', 'female', 'race_white', 'race_black',\n",
       "       'race_hispanic', 'race_asian', 'race_native', 'race_pacific',\n",
       "       'net_cost', 'race_other'],\n",
       "      dtype='object')"
      ]
     },
     "execution_count": 23,
     "metadata": {},
     "output_type": "execute_result"
    }
   ],
   "source": [
    "#i am printing the column name to know the name of the target variable\n",
    "data.columns"
   ]
  },
  {
   "cell_type": "code",
   "execution_count": 24,
   "id": "b4a44348",
   "metadata": {},
   "outputs": [],
   "source": [
    "#the target variable for this instance is the tuition fee\n",
    "y = data['tuition']"
   ]
  },
  {
   "cell_type": "code",
   "execution_count": 25,
   "id": "9a1e2a97",
   "metadata": {},
   "outputs": [
    {
     "data": {
      "text/plain": [
       "0        7182.000000\n",
       "1        7206.000000\n",
       "2        6870.000000\n",
       "3        9192.000000\n",
       "4        8720.000000\n",
       "            ...     \n",
       "3108     3626.000000\n",
       "3109    17610.526056\n",
       "3110    12474.000000\n",
       "3111    15024.000000\n",
       "3112     7866.000000\n",
       "Name: tuition, Length: 3113, dtype: float64"
      ]
     },
     "execution_count": 25,
     "metadata": {},
     "output_type": "execute_result"
    }
   ],
   "source": [
    "y"
   ]
  },
  {
   "cell_type": "code",
   "execution_count": 26,
   "id": "da635045",
   "metadata": {},
   "outputs": [],
   "source": [
    "#now we will indicate the features we will use to make the predicitons\n",
    "X = data[['revenue_per_student','spend_per_student','pell_grant','avg_family_inc','cost','net_cost','veteran','online_only']]"
   ]
  },
  {
   "cell_type": "code",
   "execution_count": 27,
   "id": "cfabba65",
   "metadata": {},
   "outputs": [
    {
     "data": {
      "text/html": [
       "<div>\n",
       "<style scoped>\n",
       "    .dataframe tbody tr th:only-of-type {\n",
       "        vertical-align: middle;\n",
       "    }\n",
       "\n",
       "    .dataframe tbody tr th {\n",
       "        vertical-align: top;\n",
       "    }\n",
       "\n",
       "    .dataframe thead th {\n",
       "        text-align: right;\n",
       "    }\n",
       "</style>\n",
       "<table border=\"1\" class=\"dataframe\">\n",
       "  <thead>\n",
       "    <tr style=\"text-align: right;\">\n",
       "      <th></th>\n",
       "      <th>revenue_per_student</th>\n",
       "      <th>spend_per_student</th>\n",
       "      <th>pell_grant</th>\n",
       "      <th>avg_family_inc</th>\n",
       "      <th>cost</th>\n",
       "      <th>net_cost</th>\n",
       "      <th>veteran</th>\n",
       "      <th>online_only</th>\n",
       "    </tr>\n",
       "  </thead>\n",
       "  <tbody>\n",
       "    <tr>\n",
       "      <th>count</th>\n",
       "      <td>3113.00000</td>\n",
       "      <td>3113.000000</td>\n",
       "      <td>3113.000000</td>\n",
       "      <td>3113.000000</td>\n",
       "      <td>3113.000000</td>\n",
       "      <td>3113.000000</td>\n",
       "      <td>3113.000000</td>\n",
       "      <td>3113</td>\n",
       "    </tr>\n",
       "    <tr>\n",
       "      <th>unique</th>\n",
       "      <td>NaN</td>\n",
       "      <td>NaN</td>\n",
       "      <td>NaN</td>\n",
       "      <td>NaN</td>\n",
       "      <td>NaN</td>\n",
       "      <td>NaN</td>\n",
       "      <td>NaN</td>\n",
       "      <td>2</td>\n",
       "    </tr>\n",
       "    <tr>\n",
       "      <th>top</th>\n",
       "      <td>NaN</td>\n",
       "      <td>NaN</td>\n",
       "      <td>NaN</td>\n",
       "      <td>NaN</td>\n",
       "      <td>NaN</td>\n",
       "      <td>NaN</td>\n",
       "      <td>NaN</td>\n",
       "      <td>False</td>\n",
       "    </tr>\n",
       "    <tr>\n",
       "      <th>freq</th>\n",
       "      <td>NaN</td>\n",
       "      <td>NaN</td>\n",
       "      <td>NaN</td>\n",
       "      <td>NaN</td>\n",
       "      <td>NaN</td>\n",
       "      <td>NaN</td>\n",
       "      <td>NaN</td>\n",
       "      <td>3078</td>\n",
       "    </tr>\n",
       "    <tr>\n",
       "      <th>mean</th>\n",
       "      <td>13287.96882</td>\n",
       "      <td>9229.615879</td>\n",
       "      <td>0.471928</td>\n",
       "      <td>48851.826392</td>\n",
       "      <td>28980.378035</td>\n",
       "      <td>18819.491041</td>\n",
       "      <td>0.026716</td>\n",
       "      <td>NaN</td>\n",
       "    </tr>\n",
       "    <tr>\n",
       "      <th>std</th>\n",
       "      <td>8214.43859</td>\n",
       "      <td>11691.085046</td>\n",
       "      <td>0.201922</td>\n",
       "      <td>24728.118642</td>\n",
       "      <td>10974.203878</td>\n",
       "      <td>6638.568164</td>\n",
       "      <td>0.023579</td>\n",
       "      <td>NaN</td>\n",
       "    </tr>\n",
       "    <tr>\n",
       "      <th>min</th>\n",
       "      <td>0.00000</td>\n",
       "      <td>0.000000</td>\n",
       "      <td>0.000000</td>\n",
       "      <td>1090.000000</td>\n",
       "      <td>6172.000000</td>\n",
       "      <td>420.000000</td>\n",
       "      <td>0.001312</td>\n",
       "      <td>NaN</td>\n",
       "    </tr>\n",
       "    <tr>\n",
       "      <th>25%</th>\n",
       "      <td>7470.00000</td>\n",
       "      <td>4346.000000</td>\n",
       "      <td>0.324100</td>\n",
       "      <td>26271.393116</td>\n",
       "      <td>21526.000000</td>\n",
       "      <td>15104.000000</td>\n",
       "      <td>0.015221</td>\n",
       "      <td>NaN</td>\n",
       "    </tr>\n",
       "    <tr>\n",
       "      <th>50%</th>\n",
       "      <td>12218.00000</td>\n",
       "      <td>6849.000000</td>\n",
       "      <td>0.471928</td>\n",
       "      <td>47863.225354</td>\n",
       "      <td>28980.378035</td>\n",
       "      <td>18819.491041</td>\n",
       "      <td>0.027010</td>\n",
       "      <td>NaN</td>\n",
       "    </tr>\n",
       "    <tr>\n",
       "      <th>75%</th>\n",
       "      <td>17155.00000</td>\n",
       "      <td>10210.000000</td>\n",
       "      <td>0.615200</td>\n",
       "      <td>63659.549180</td>\n",
       "      <td>33245.000000</td>\n",
       "      <td>22491.000000</td>\n",
       "      <td>0.027010</td>\n",
       "      <td>NaN</td>\n",
       "    </tr>\n",
       "    <tr>\n",
       "      <th>max</th>\n",
       "      <td>123492.00000</td>\n",
       "      <td>307089.000000</td>\n",
       "      <td>1.000000</td>\n",
       "      <td>142405.218840</td>\n",
       "      <td>64233.000000</td>\n",
       "      <td>47639.000000</td>\n",
       "      <td>0.543046</td>\n",
       "      <td>NaN</td>\n",
       "    </tr>\n",
       "  </tbody>\n",
       "</table>\n",
       "</div>"
      ],
      "text/plain": [
       "        revenue_per_student  spend_per_student   pell_grant  avg_family_inc  \\\n",
       "count            3113.00000        3113.000000  3113.000000     3113.000000   \n",
       "unique                  NaN                NaN          NaN             NaN   \n",
       "top                     NaN                NaN          NaN             NaN   \n",
       "freq                    NaN                NaN          NaN             NaN   \n",
       "mean            13287.96882        9229.615879     0.471928    48851.826392   \n",
       "std              8214.43859       11691.085046     0.201922    24728.118642   \n",
       "min                 0.00000           0.000000     0.000000     1090.000000   \n",
       "25%              7470.00000        4346.000000     0.324100    26271.393116   \n",
       "50%             12218.00000        6849.000000     0.471928    47863.225354   \n",
       "75%             17155.00000       10210.000000     0.615200    63659.549180   \n",
       "max            123492.00000      307089.000000     1.000000   142405.218840   \n",
       "\n",
       "                cost      net_cost      veteran online_only  \n",
       "count    3113.000000   3113.000000  3113.000000        3113  \n",
       "unique           NaN           NaN          NaN           2  \n",
       "top              NaN           NaN          NaN       False  \n",
       "freq             NaN           NaN          NaN        3078  \n",
       "mean    28980.378035  18819.491041     0.026716         NaN  \n",
       "std     10974.203878   6638.568164     0.023579         NaN  \n",
       "min      6172.000000    420.000000     0.001312         NaN  \n",
       "25%     21526.000000  15104.000000     0.015221         NaN  \n",
       "50%     28980.378035  18819.491041     0.027010         NaN  \n",
       "75%     33245.000000  22491.000000     0.027010         NaN  \n",
       "max     64233.000000  47639.000000     0.543046         NaN  "
      ]
     },
     "execution_count": 27,
     "metadata": {},
     "output_type": "execute_result"
    }
   ],
   "source": [
    "X.describe(include='all')"
   ]
  },
  {
   "cell_type": "code",
   "execution_count": 28,
   "id": "6bd6facc",
   "metadata": {},
   "outputs": [
    {
     "data": {
      "text/html": [
       "<style>#sk-container-id-1 {color: black;}#sk-container-id-1 pre{padding: 0;}#sk-container-id-1 div.sk-toggleable {background-color: white;}#sk-container-id-1 label.sk-toggleable__label {cursor: pointer;display: block;width: 100%;margin-bottom: 0;padding: 0.3em;box-sizing: border-box;text-align: center;}#sk-container-id-1 label.sk-toggleable__label-arrow:before {content: \"▸\";float: left;margin-right: 0.25em;color: #696969;}#sk-container-id-1 label.sk-toggleable__label-arrow:hover:before {color: black;}#sk-container-id-1 div.sk-estimator:hover label.sk-toggleable__label-arrow:before {color: black;}#sk-container-id-1 div.sk-toggleable__content {max-height: 0;max-width: 0;overflow: hidden;text-align: left;background-color: #f0f8ff;}#sk-container-id-1 div.sk-toggleable__content pre {margin: 0.2em;color: black;border-radius: 0.25em;background-color: #f0f8ff;}#sk-container-id-1 input.sk-toggleable__control:checked~div.sk-toggleable__content {max-height: 200px;max-width: 100%;overflow: auto;}#sk-container-id-1 input.sk-toggleable__control:checked~label.sk-toggleable__label-arrow:before {content: \"▾\";}#sk-container-id-1 div.sk-estimator input.sk-toggleable__control:checked~label.sk-toggleable__label {background-color: #d4ebff;}#sk-container-id-1 div.sk-label input.sk-toggleable__control:checked~label.sk-toggleable__label {background-color: #d4ebff;}#sk-container-id-1 input.sk-hidden--visually {border: 0;clip: rect(1px 1px 1px 1px);clip: rect(1px, 1px, 1px, 1px);height: 1px;margin: -1px;overflow: hidden;padding: 0;position: absolute;width: 1px;}#sk-container-id-1 div.sk-estimator {font-family: monospace;background-color: #f0f8ff;border: 1px dotted black;border-radius: 0.25em;box-sizing: border-box;margin-bottom: 0.5em;}#sk-container-id-1 div.sk-estimator:hover {background-color: #d4ebff;}#sk-container-id-1 div.sk-parallel-item::after {content: \"\";width: 100%;border-bottom: 1px solid gray;flex-grow: 1;}#sk-container-id-1 div.sk-label:hover label.sk-toggleable__label {background-color: #d4ebff;}#sk-container-id-1 div.sk-serial::before {content: \"\";position: absolute;border-left: 1px solid gray;box-sizing: border-box;top: 0;bottom: 0;left: 50%;z-index: 0;}#sk-container-id-1 div.sk-serial {display: flex;flex-direction: column;align-items: center;background-color: white;padding-right: 0.2em;padding-left: 0.2em;position: relative;}#sk-container-id-1 div.sk-item {position: relative;z-index: 1;}#sk-container-id-1 div.sk-parallel {display: flex;align-items: stretch;justify-content: center;background-color: white;position: relative;}#sk-container-id-1 div.sk-item::before, #sk-container-id-1 div.sk-parallel-item::before {content: \"\";position: absolute;border-left: 1px solid gray;box-sizing: border-box;top: 0;bottom: 0;left: 50%;z-index: -1;}#sk-container-id-1 div.sk-parallel-item {display: flex;flex-direction: column;z-index: 1;position: relative;background-color: white;}#sk-container-id-1 div.sk-parallel-item:first-child::after {align-self: flex-end;width: 50%;}#sk-container-id-1 div.sk-parallel-item:last-child::after {align-self: flex-start;width: 50%;}#sk-container-id-1 div.sk-parallel-item:only-child::after {width: 0;}#sk-container-id-1 div.sk-dashed-wrapped {border: 1px dashed gray;margin: 0 0.4em 0.5em 0.4em;box-sizing: border-box;padding-bottom: 0.4em;background-color: white;}#sk-container-id-1 div.sk-label label {font-family: monospace;font-weight: bold;display: inline-block;line-height: 1.2em;}#sk-container-id-1 div.sk-label-container {text-align: center;}#sk-container-id-1 div.sk-container {/* jupyter's `normalize.less` sets `[hidden] { display: none; }` but bootstrap.min.css set `[hidden] { display: none !important; }` so we also need the `!important` here to be able to override the default hidden behavior on the sphinx rendered scikit-learn.org. See: https://github.com/scikit-learn/scikit-learn/issues/21755 */display: inline-block !important;position: relative;}#sk-container-id-1 div.sk-text-repr-fallback {display: none;}</style><div id=\"sk-container-id-1\" class=\"sk-top-container\"><div class=\"sk-text-repr-fallback\"><pre>DecisionTreeRegressor(random_state=2)</pre><b>In a Jupyter environment, please rerun this cell to show the HTML representation or trust the notebook. <br />On GitHub, the HTML representation is unable to render, please try loading this page with nbviewer.org.</b></div><div class=\"sk-container\" hidden><div class=\"sk-item\"><div class=\"sk-estimator sk-toggleable\"><input class=\"sk-toggleable__control sk-hidden--visually\" id=\"sk-estimator-id-1\" type=\"checkbox\" checked><label for=\"sk-estimator-id-1\" class=\"sk-toggleable__label sk-toggleable__label-arrow\">DecisionTreeRegressor</label><div class=\"sk-toggleable__content\"><pre>DecisionTreeRegressor(random_state=2)</pre></div></div></div></div></div>"
      ],
      "text/plain": [
       "DecisionTreeRegressor(random_state=2)"
      ]
     },
     "execution_count": 28,
     "metadata": {},
     "output_type": "execute_result"
    }
   ],
   "source": [
    "#now we want to create the prediction model\n",
    "collegecard_model = DecisionTreeRegressor(random_state = 2)\n",
    "#indicating the ranndom  state to the number one helps to get the same value and result in the each run\n",
    "collegecard_model.fit(X,y)"
   ]
  },
  {
   "cell_type": "code",
   "execution_count": 29,
   "id": "22ccb5e7",
   "metadata": {},
   "outputs": [
    {
     "name": "stdout",
     "output_type": "stream",
     "text": [
      "now we want to predict the tuition fees using existing values in the dataset which are as shown below\n",
      "\n",
      "we are using the first five values\n",
      "   revenue_per_student  spend_per_student  pell_grant  avg_family_inc  \\\n",
      "0               9063.0             7459.0      0.7115    29589.571371   \n",
      "1               9033.0            17208.0      0.3505    50152.641819   \n",
      "2              12057.0             5123.0      0.6839    22714.413953   \n",
      "3               8322.0             9352.0      0.3281    51013.170850   \n",
      "4               7813.0             7393.0      0.8265    28113.204453   \n",
      "\n",
      "      cost  net_cost   veteran online_only  \n",
      "0  18888.0   13415.0  0.027010       False  \n",
      "1  19990.0   14805.0  0.003541       False  \n",
      "2  12300.0    7455.0  0.027010       False  \n",
      "3  20306.0   17520.0  0.010128       False  \n",
      "4  17400.0   11936.0  0.003530       False  \n",
      "the predictions are as follows\n",
      "[7182. 7206. 6870. 9192. 8720.]\n"
     ]
    }
   ],
   "source": [
    "print('now we want to predict the tuition fees using existing values in the dataset which are as shown below\\n')\n",
    "print('we are using the first five values')\n",
    "print(X.head())\n",
    "print('the predictions are as follows')\n",
    "print(collegecard_model.predict(X.head()))"
   ]
  },
  {
   "cell_type": "code",
   "execution_count": 30,
   "id": "e79ddcdb",
   "metadata": {},
   "outputs": [
    {
     "data": {
      "text/plain": [
       "0        7182.000000\n",
       "1        7206.000000\n",
       "2        6870.000000\n",
       "3        9192.000000\n",
       "4        8720.000000\n",
       "            ...     \n",
       "3108     3626.000000\n",
       "3109    17610.526056\n",
       "3110    12474.000000\n",
       "3111    15024.000000\n",
       "3112     7866.000000\n",
       "Name: tuition, Length: 3113, dtype: float64"
      ]
     },
     "execution_count": 30,
     "metadata": {},
     "output_type": "execute_result"
    }
   ],
   "source": [
    "data.tuition"
   ]
  },
  {
   "cell_type": "code",
   "execution_count": 38,
   "id": "f81c0cd8",
   "metadata": {},
   "outputs": [
    {
     "ename": "TypeError",
     "evalue": "'DataFrame' object is not callable",
     "output_type": "error",
     "traceback": [
      "\u001b[1;31m---------------------------------------------------------------------------\u001b[0m",
      "\u001b[1;31mTypeError\u001b[0m                                 Traceback (most recent call last)",
      "Cell \u001b[1;32mIn[38], line 2\u001b[0m\n\u001b[0;32m      1\u001b[0m \u001b[38;5;66;03m#trying to add new data to test my model\u001b[39;00m\n\u001b[1;32m----> 2\u001b[0m new_data \u001b[38;5;241m=\u001b[39m data({\n\u001b[0;32m      3\u001b[0m     \u001b[38;5;124m'\u001b[39m\u001b[38;5;124mrevenue_per_student\u001b[39m\u001b[38;5;124m'\u001b[39m: [\u001b[38;5;241m10500\u001b[39m,\u001b[38;5;241m5450\u001b[39m],\n\u001b[0;32m      4\u001b[0m     \u001b[38;5;124m'\u001b[39m\u001b[38;5;124mspend_per_student\u001b[39m\u001b[38;5;124m'\u001b[39m: [\u001b[38;5;241m8900\u001b[39m,\u001b[38;5;241m5300\u001b[39m],\n\u001b[0;32m      5\u001b[0m     \u001b[38;5;124m'\u001b[39m\u001b[38;5;124mpell_grant\u001b[39m\u001b[38;5;124m'\u001b[39m: [\u001b[38;5;241m0.5689\u001b[39m,\u001b[38;5;241m0.2345\u001b[39m],\n\u001b[0;32m      6\u001b[0m     \u001b[38;5;124m'\u001b[39m\u001b[38;5;124mavg_family_inc\u001b[39m\u001b[38;5;124m'\u001b[39m:[\u001b[38;5;241m60540\u001b[39m,\u001b[38;5;241m35900\u001b[39m],\n\u001b[0;32m      7\u001b[0m     \u001b[38;5;124m'\u001b[39m\u001b[38;5;124mcost\u001b[39m\u001b[38;5;124m'\u001b[39m: [\u001b[38;5;241m25700\u001b[39m,\u001b[38;5;241m14538\u001b[39m],\n\u001b[0;32m      8\u001b[0m     \u001b[38;5;124m'\u001b[39m\u001b[38;5;124mnet_cost\u001b[39m\u001b[38;5;124m'\u001b[39m: [\u001b[38;5;241m7500\u001b[39m,\u001b[38;5;241m13450\u001b[39m],\n\u001b[0;32m      9\u001b[0m     \u001b[38;5;124m'\u001b[39m\u001b[38;5;124mveteran\u001b[39m\u001b[38;5;124m'\u001b[39m: [\u001b[38;5;241m0.023440\u001b[39m,\u001b[38;5;241m0.034459\u001b[39m],\n\u001b[0;32m     10\u001b[0m     \u001b[38;5;124m'\u001b[39m\u001b[38;5;124monline_only\u001b[39m\u001b[38;5;124m'\u001b[39m: [\u001b[38;5;28;01mFalse\u001b[39;00m],\n\u001b[0;32m     11\u001b[0m     \u001b[38;5;124m'\u001b[39m\u001b[38;5;124mname\u001b[39m\u001b[38;5;124m'\u001b[39m: [\u001b[38;5;124m'\u001b[39m\u001b[38;5;124mFeranmi state Univeristies\u001b[39m\u001b[38;5;124m'\u001b[39m,\u001b[38;5;124m'\u001b[39m\u001b[38;5;124mElisha community college\u001b[39m\u001b[38;5;124m'\u001b[39m]\n\u001b[0;32m     12\u001b[0m })\n\u001b[0;32m     13\u001b[0m new_data \u001b[38;5;241m=\u001b[39m pd\u001b[38;5;241m.\u001b[39mconcat([data,new_data],ignore_index\u001b[38;5;241m=\u001b[39m\u001b[38;5;28;01mTrue\u001b[39;00m)\n",
      "\u001b[1;31mTypeError\u001b[0m: 'DataFrame' object is not callable"
     ]
    }
   ],
   "source": [
    "#trying to add new data to test my model\n",
    "new_data = pd.data({\n",
    "    'revenue_per_student': [10500,5450],\n",
    "    'spend_per_student': [8900,5300],\n",
    "    'pell_grant': [0.5689,0.2345],\n",
    "    'avg_family_inc':[60540,35900],\n",
    "    'cost': [25700,14538],\n",
    "    'net_cost': [7500,13450],\n",
    "    'veteran': [0.023440,0.034459],\n",
    "    'online_only': [False],\n",
    "    'name': ['Feranmi state Univeristies','Elisha community college']\n",
    "})\n",
    "new_data = pd.concat([data,new_data],ignore_index=True)"
   ]
  },
  {
   "cell_type": "markdown",
   "id": "43e9691f",
   "metadata": {},
   "source": [
    "now we want to validate and check the accuracy of our model using MAE"
   ]
  },
  {
   "cell_type": "code",
   "execution_count": 32,
   "id": "3d468a61",
   "metadata": {},
   "outputs": [],
   "source": [
    "from sklearn.metrics import mean_absolute_error\n",
    "from sklearn.model_selection import train_test_split"
   ]
  },
  {
   "cell_type": "code",
   "execution_count": 33,
   "id": "5c3a9603",
   "metadata": {},
   "outputs": [
    {
     "data": {
      "text/html": [
       "<style>#sk-container-id-2 {color: black;}#sk-container-id-2 pre{padding: 0;}#sk-container-id-2 div.sk-toggleable {background-color: white;}#sk-container-id-2 label.sk-toggleable__label {cursor: pointer;display: block;width: 100%;margin-bottom: 0;padding: 0.3em;box-sizing: border-box;text-align: center;}#sk-container-id-2 label.sk-toggleable__label-arrow:before {content: \"▸\";float: left;margin-right: 0.25em;color: #696969;}#sk-container-id-2 label.sk-toggleable__label-arrow:hover:before {color: black;}#sk-container-id-2 div.sk-estimator:hover label.sk-toggleable__label-arrow:before {color: black;}#sk-container-id-2 div.sk-toggleable__content {max-height: 0;max-width: 0;overflow: hidden;text-align: left;background-color: #f0f8ff;}#sk-container-id-2 div.sk-toggleable__content pre {margin: 0.2em;color: black;border-radius: 0.25em;background-color: #f0f8ff;}#sk-container-id-2 input.sk-toggleable__control:checked~div.sk-toggleable__content {max-height: 200px;max-width: 100%;overflow: auto;}#sk-container-id-2 input.sk-toggleable__control:checked~label.sk-toggleable__label-arrow:before {content: \"▾\";}#sk-container-id-2 div.sk-estimator input.sk-toggleable__control:checked~label.sk-toggleable__label {background-color: #d4ebff;}#sk-container-id-2 div.sk-label input.sk-toggleable__control:checked~label.sk-toggleable__label {background-color: #d4ebff;}#sk-container-id-2 input.sk-hidden--visually {border: 0;clip: rect(1px 1px 1px 1px);clip: rect(1px, 1px, 1px, 1px);height: 1px;margin: -1px;overflow: hidden;padding: 0;position: absolute;width: 1px;}#sk-container-id-2 div.sk-estimator {font-family: monospace;background-color: #f0f8ff;border: 1px dotted black;border-radius: 0.25em;box-sizing: border-box;margin-bottom: 0.5em;}#sk-container-id-2 div.sk-estimator:hover {background-color: #d4ebff;}#sk-container-id-2 div.sk-parallel-item::after {content: \"\";width: 100%;border-bottom: 1px solid gray;flex-grow: 1;}#sk-container-id-2 div.sk-label:hover label.sk-toggleable__label {background-color: #d4ebff;}#sk-container-id-2 div.sk-serial::before {content: \"\";position: absolute;border-left: 1px solid gray;box-sizing: border-box;top: 0;bottom: 0;left: 50%;z-index: 0;}#sk-container-id-2 div.sk-serial {display: flex;flex-direction: column;align-items: center;background-color: white;padding-right: 0.2em;padding-left: 0.2em;position: relative;}#sk-container-id-2 div.sk-item {position: relative;z-index: 1;}#sk-container-id-2 div.sk-parallel {display: flex;align-items: stretch;justify-content: center;background-color: white;position: relative;}#sk-container-id-2 div.sk-item::before, #sk-container-id-2 div.sk-parallel-item::before {content: \"\";position: absolute;border-left: 1px solid gray;box-sizing: border-box;top: 0;bottom: 0;left: 50%;z-index: -1;}#sk-container-id-2 div.sk-parallel-item {display: flex;flex-direction: column;z-index: 1;position: relative;background-color: white;}#sk-container-id-2 div.sk-parallel-item:first-child::after {align-self: flex-end;width: 50%;}#sk-container-id-2 div.sk-parallel-item:last-child::after {align-self: flex-start;width: 50%;}#sk-container-id-2 div.sk-parallel-item:only-child::after {width: 0;}#sk-container-id-2 div.sk-dashed-wrapped {border: 1px dashed gray;margin: 0 0.4em 0.5em 0.4em;box-sizing: border-box;padding-bottom: 0.4em;background-color: white;}#sk-container-id-2 div.sk-label label {font-family: monospace;font-weight: bold;display: inline-block;line-height: 1.2em;}#sk-container-id-2 div.sk-label-container {text-align: center;}#sk-container-id-2 div.sk-container {/* jupyter's `normalize.less` sets `[hidden] { display: none; }` but bootstrap.min.css set `[hidden] { display: none !important; }` so we also need the `!important` here to be able to override the default hidden behavior on the sphinx rendered scikit-learn.org. See: https://github.com/scikit-learn/scikit-learn/issues/21755 */display: inline-block !important;position: relative;}#sk-container-id-2 div.sk-text-repr-fallback {display: none;}</style><div id=\"sk-container-id-2\" class=\"sk-top-container\"><div class=\"sk-text-repr-fallback\"><pre>DecisionTreeRegressor(random_state=2)</pre><b>In a Jupyter environment, please rerun this cell to show the HTML representation or trust the notebook. <br />On GitHub, the HTML representation is unable to render, please try loading this page with nbviewer.org.</b></div><div class=\"sk-container\" hidden><div class=\"sk-item\"><div class=\"sk-estimator sk-toggleable\"><input class=\"sk-toggleable__control sk-hidden--visually\" id=\"sk-estimator-id-2\" type=\"checkbox\" checked><label for=\"sk-estimator-id-2\" class=\"sk-toggleable__label sk-toggleable__label-arrow\">DecisionTreeRegressor</label><div class=\"sk-toggleable__content\"><pre>DecisionTreeRegressor(random_state=2)</pre></div></div></div></div></div>"
      ],
      "text/plain": [
       "DecisionTreeRegressor(random_state=2)"
      ]
     },
     "execution_count": 33,
     "metadata": {},
     "output_type": "execute_result"
    }
   ],
   "source": [
    "train_X, val_X,train_y,val_y = train_test_split(X,y,random_state = 2)\n",
    "#specify the model\n",
    "tuition_model = DecisionTreeRegressor(random_state=2)\n",
    "#fit the model\n",
    "tuition_model.fit(train_X,train_y)"
   ]
  },
  {
   "cell_type": "code",
   "execution_count": 34,
   "id": "114e08d7",
   "metadata": {},
   "outputs": [],
   "source": [
    "# get predicted prices on validation data\n",
    "val_predictions = tuition_model.predict(val_X)\n",
    "#print top prices from validation data"
   ]
  },
  {
   "cell_type": "code",
   "execution_count": 35,
   "id": "ffee2101",
   "metadata": {},
   "outputs": [
    {
     "data": {
      "text/plain": [
       "1707.9656077672755"
      ]
     },
     "execution_count": 35,
     "metadata": {},
     "output_type": "execute_result"
    }
   ],
   "source": [
    "val_mae = mean_absolute_error(val_y, val_predictions)\n",
    "val_mae"
   ]
  },
  {
   "cell_type": "code",
   "execution_count": null,
   "id": "bfc4bf15",
   "metadata": {},
   "outputs": [],
   "source": []
  },
  {
   "cell_type": "code",
   "execution_count": null,
   "id": "54c23519",
   "metadata": {},
   "outputs": [],
   "source": []
  }
 ],
 "metadata": {
  "kernelspec": {
   "display_name": "Python 3 (ipykernel)",
   "language": "python",
   "name": "python3"
  },
  "language_info": {
   "codemirror_mode": {
    "name": "ipython",
    "version": 3
   },
   "file_extension": ".py",
   "mimetype": "text/x-python",
   "name": "python",
   "nbconvert_exporter": "python",
   "pygments_lexer": "ipython3",
   "version": "3.11.4"
  }
 },
 "nbformat": 4,
 "nbformat_minor": 5
}
